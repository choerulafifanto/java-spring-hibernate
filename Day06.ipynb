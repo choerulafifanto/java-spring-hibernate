{
 "cells": [
  {
   "cell_type": "markdown",
   "metadata": {},
   "source": [
    "## Spring Security\n",
    "\n",
    "### Otentikasi (Authentication)\n",
    "\n",
    "Autentikasi adalan pengecekan user melalui username dan password yang dimasukkan. Bisa juga pengecekan token yang dimasukkan terdaftar atau belum kadaluarsa.\n",
    "\n",
    "### Otorisasi (Authorization)\n",
    "\n",
    "Autorisasi adalah pengecekan akses user yang terotentikasi melalui role yang dimiliki. Contoh, user yang memiliki role admin dapat mengakses menu A, B, dan C.\n",
    "\n",
    "<img style=\"float: center;\" src=\"https://imgur.com/0Uoz6wK.png\" alt=\"Auth0\"\n",
    "\ttitle=\"Auth0\" width=\"600\" height=\"400\" />\n",
    "\n",
    "## Angular Integration\n",
    "\n",
    "Angular.js sebagai salah satu framework MVC dalam membangun aplikasi web berbasis Javascript merupakan teknologi yang sangat populer dan memiliki keunggulan dalam dokumentasi yang terstruktur dan lengkap.\n",
    "\n",
    "## Heroku Deployment\n",
    "\n",
    "Heroku adalah sebuah cloud platform yang menjalankan bahasa pemrograman tertentu, Heroku mendukung bahasa pemrograman seperti Ruby, Node.js, Python, Java, PHP, dan lain-lain.\n",
    "\n",
    "Heroku termasuk ke dalam kriteria Platform As A Service (PaaS), sehingga bagi anda yang ingin melakukan deploy aplikasi ke heroku cukup hanya dengan melakukan konfigurasi aplikasi yang ingin di deploy dan menyediakan platform yang memungkinkan pelanggan untuk mengembangkan, menjalankan, dan mengelola aplikasi tanpa kompleksitas membangun dan memelihara infrastruktur yang biasanya terkait dengan pengembangan dan peluncuran aplikasi.\n",
    "\n",
    "Langkah-langkah untuk deploy aplikasi melalui Heroku adalah:\n",
    "1. Register user di heroku\n",
    "2. Install heroku cli\n",
    "3. Buat project\n",
    "4. Menghubungkan git lokal dengan heroku\n",
    "5. Deploy dan testing"
   ]
  }
 ],
 "metadata": {
  "kernelspec": {
   "display_name": "Python 3",
   "language": "python",
   "name": "python3"
  },
  "language_info": {
   "codemirror_mode": {
    "name": "ipython",
    "version": 3
   },
   "file_extension": ".py",
   "mimetype": "text/x-python",
   "name": "python",
   "nbconvert_exporter": "python",
   "pygments_lexer": "ipython3",
   "version": "3.7.0"
  }
 },
 "nbformat": 4,
 "nbformat_minor": 2
}
